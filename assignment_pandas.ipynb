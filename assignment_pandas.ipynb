{
 "cells": [
  {
   "cell_type": "markdown",
   "metadata": {},
   "source": [
    "## Датасет собран из базы данных переписи 1994 года и содержит данные о доходах.\n",
    "### Информация о данных:\n",
    "* age: continuous.\n",
    "* workclass: Private, Self-emp-not-inc, Self-emp-inc, Federal-gov, Local-gov, State-gov, Without-pay, Never-worked.\n",
    "* fnlwgt: continuous.\n",
    "* education: Bachelors, Some-college, 11th, HS-grad, Prof-school, Assoc-acdm, Assoc-voc, 9th, 7th-8th, 12th, * Masters, 1st-4th, 10th, Doctorate, 5th-6th, Preschool.\n",
    "* education-num: continuous.\n",
    "* marital-status: Married-civ-spouse, Divorced, Never-married, Separated, Widowed, Married-spouse-absent, Married-AF-spouse.\n",
    "* occupation: Tech-support, Craft-repair, Other-service, Sales, Exec-managerial, Prof-specialty, Handlers-cleaners, Machine-op-inspct, Adm-clerical, Farming-fishing, Transport-moving, Priv-house-serv, Protective-serv, Armed-Forces.\n",
    "* relationship: Wife, Own-child, Husband, Not-in-family, Other-relative, Unmarried.\n",
    "* race: White, Asian-Pac-Islander, Amer-Indian-Eskimo, Other, Black.\n",
    "* sex: Female, Male.\n",
    "* capital-gain: continuous.\n",
    "* capital-loss: continuous.\n",
    "* hours-per-week: continuous.\n",
    "* native-country: United-States, Cambodia, England, Puerto-Rico, Canada, Germany, Outlying-US(Guam-USVI-etc), India, Japan, Greece, South, China, Cuba, Iran, Honduras, Philippines, Italy, Poland, Jamaica, Vietnam, Mexico, Portugal, Ireland, France, Dominican-Republic, Laos, Ecuador, Taiwan, Haiti, Columbia, Hungary, Guatemala, Nicaragua, Scotland, Thailand, Yugoslavia, El-Salvador, Trinadad&Tobago, Peru, Hong, Holand-Netherlands.\n",
    "* salary: >50K,<=50K\n",
    "\n",
    "## Проведите анализ данных при помощи Pandas выполнив поставленные задачи.\n",
    "#### "
   ]
  },
  {
   "cell_type": "code",
   "execution_count": 3996,
   "metadata": {},
   "outputs": [],
   "source": [
    "import pandas as pd"
   ]
  },
  {
   "cell_type": "code",
   "execution_count": 3997,
   "metadata": {},
   "outputs": [
    {
     "data": {
      "text/plain": "   age         workclass  fnlwgt  education  education-num  \\\n0   39         State-gov   77516  Bachelors             13   \n1   50  Self-emp-not-inc   83311  Bachelors             13   \n2   38           Private  215646    HS-grad              9   \n3   53           Private  234721       11th              7   \n4   28           Private  338409  Bachelors             13   \n\n       marital-status         occupation   relationship   race     sex  \\\n0       Never-married       Adm-clerical  Not-in-family  White    Male   \n1  Married-civ-spouse    Exec-managerial        Husband  White    Male   \n2            Divorced  Handlers-cleaners  Not-in-family  White    Male   \n3  Married-civ-spouse  Handlers-cleaners        Husband  Black    Male   \n4  Married-civ-spouse     Prof-specialty           Wife  Black  Female   \n\n   capital-gain  capital-loss  hours-per-week native-country salary  \n0          2174             0              40  United-States  <=50K  \n1             0             0              13  United-States  <=50K  \n2             0             0              40  United-States  <=50K  \n3             0             0              40  United-States  <=50K  \n4             0             0              40           Cuba  <=50K  ",
      "text/html": "<div>\n<style scoped>\n    .dataframe tbody tr th:only-of-type {\n        vertical-align: middle;\n    }\n\n    .dataframe tbody tr th {\n        vertical-align: top;\n    }\n\n    .dataframe thead th {\n        text-align: right;\n    }\n</style>\n<table border=\"1\" class=\"dataframe\">\n  <thead>\n    <tr style=\"text-align: right;\">\n      <th></th>\n      <th>age</th>\n      <th>workclass</th>\n      <th>fnlwgt</th>\n      <th>education</th>\n      <th>education-num</th>\n      <th>marital-status</th>\n      <th>occupation</th>\n      <th>relationship</th>\n      <th>race</th>\n      <th>sex</th>\n      <th>capital-gain</th>\n      <th>capital-loss</th>\n      <th>hours-per-week</th>\n      <th>native-country</th>\n      <th>salary</th>\n    </tr>\n  </thead>\n  <tbody>\n    <tr>\n      <th>0</th>\n      <td>39</td>\n      <td>State-gov</td>\n      <td>77516</td>\n      <td>Bachelors</td>\n      <td>13</td>\n      <td>Never-married</td>\n      <td>Adm-clerical</td>\n      <td>Not-in-family</td>\n      <td>White</td>\n      <td>Male</td>\n      <td>2174</td>\n      <td>0</td>\n      <td>40</td>\n      <td>United-States</td>\n      <td>&lt;=50K</td>\n    </tr>\n    <tr>\n      <th>1</th>\n      <td>50</td>\n      <td>Self-emp-not-inc</td>\n      <td>83311</td>\n      <td>Bachelors</td>\n      <td>13</td>\n      <td>Married-civ-spouse</td>\n      <td>Exec-managerial</td>\n      <td>Husband</td>\n      <td>White</td>\n      <td>Male</td>\n      <td>0</td>\n      <td>0</td>\n      <td>13</td>\n      <td>United-States</td>\n      <td>&lt;=50K</td>\n    </tr>\n    <tr>\n      <th>2</th>\n      <td>38</td>\n      <td>Private</td>\n      <td>215646</td>\n      <td>HS-grad</td>\n      <td>9</td>\n      <td>Divorced</td>\n      <td>Handlers-cleaners</td>\n      <td>Not-in-family</td>\n      <td>White</td>\n      <td>Male</td>\n      <td>0</td>\n      <td>0</td>\n      <td>40</td>\n      <td>United-States</td>\n      <td>&lt;=50K</td>\n    </tr>\n    <tr>\n      <th>3</th>\n      <td>53</td>\n      <td>Private</td>\n      <td>234721</td>\n      <td>11th</td>\n      <td>7</td>\n      <td>Married-civ-spouse</td>\n      <td>Handlers-cleaners</td>\n      <td>Husband</td>\n      <td>Black</td>\n      <td>Male</td>\n      <td>0</td>\n      <td>0</td>\n      <td>40</td>\n      <td>United-States</td>\n      <td>&lt;=50K</td>\n    </tr>\n    <tr>\n      <th>4</th>\n      <td>28</td>\n      <td>Private</td>\n      <td>338409</td>\n      <td>Bachelors</td>\n      <td>13</td>\n      <td>Married-civ-spouse</td>\n      <td>Prof-specialty</td>\n      <td>Wife</td>\n      <td>Black</td>\n      <td>Female</td>\n      <td>0</td>\n      <td>0</td>\n      <td>40</td>\n      <td>Cuba</td>\n      <td>&lt;=50K</td>\n    </tr>\n  </tbody>\n</table>\n</div>"
     },
     "execution_count": 3997,
     "metadata": {},
     "output_type": "execute_result"
    }
   ],
   "source": [
    "# загружаем датасет\n",
    "data = pd.read_csv(\"./data/adult.data.csv\")\n",
    "data.head()"
   ]
  },
  {
   "cell_type": "markdown",
   "metadata": {},
   "source": [
    "**1. Посчитайте, сколько мужчин и женщин (признак *sex*) представлено в этом датасете**"
   ]
  },
  {
   "cell_type": "code",
   "execution_count": 3998,
   "outputs": [
    {
     "name": "stdout",
     "output_type": "stream",
     "text": [
      "Male:   21790\n",
      "Female: 10771\n"
     ]
    }
   ],
   "source": [
    "# 1\n",
    "male = data[data['sex'] == 'Male'].shape[0]\n",
    "female = data[data['sex'] == 'Female'].shape[0]\n",
    "print(f\"Male:   {male}\\nFemale: {female}\")"
   ],
   "metadata": {
    "collapsed": false
   }
  },
  {
   "cell_type": "code",
   "execution_count": 3999,
   "outputs": [
    {
     "name": "stdout",
     "output_type": "stream",
     "text": [
      "32561\n",
      "32561\n"
     ]
    },
    {
     "data": {
      "text/plain": "Male      21790\nFemale    10771\nName: sex, dtype: int64"
     },
     "execution_count": 3999,
     "metadata": {},
     "output_type": "execute_result"
    }
   ],
   "source": [
    "# 2\n",
    "print(data['sex'].shape[0], data['sex'].count(), sep=\"\\n\")\n",
    "data['sex'].value_counts()\n"
   ],
   "metadata": {
    "collapsed": false
   }
  },
  {
   "cell_type": "code",
   "execution_count": 4000,
   "metadata": {},
   "outputs": [
    {
     "data": {
      "text/plain": "sex\nFemale    10771\nMale      21790\nName: sex, dtype: int64"
     },
     "execution_count": 4000,
     "metadata": {},
     "output_type": "execute_result"
    }
   ],
   "source": [
    "# 3\n",
    "data.groupby('sex')['sex'].count()"
   ]
  },
  {
   "cell_type": "markdown",
   "metadata": {},
   "source": [
    "**2. Каков средний возраст мужчин (признак *age*) по всему датасету?**"
   ]
  },
  {
   "cell_type": "code",
   "execution_count": 4001,
   "outputs": [
    {
     "data": {
      "text/plain": "39.4"
     },
     "execution_count": 4001,
     "metadata": {},
     "output_type": "execute_result"
    }
   ],
   "source": [
    "# 1\n",
    "data[data.sex == \"Male\"][\"age\"].mean(axis=0).round(1)"
   ],
   "metadata": {
    "collapsed": false
   }
  },
  {
   "cell_type": "code",
   "execution_count": 4002,
   "outputs": [
    {
     "data": {
      "text/plain": "39.4"
     },
     "execution_count": 4002,
     "metadata": {},
     "output_type": "execute_result"
    }
   ],
   "source": [
    "# 2\n",
    "m = data[data.sex == 'Male']\n",
    "m[\"age\"].mean().round(1)"
   ],
   "metadata": {
    "collapsed": false
   }
  },
  {
   "cell_type": "code",
   "execution_count": 4003,
   "metadata": {},
   "outputs": [
    {
     "data": {
      "text/plain": "39.4"
     },
     "execution_count": 4003,
     "metadata": {},
     "output_type": "execute_result"
    }
   ],
   "source": [
    "# 3\n",
    "data.groupby('sex')['age'].mean()['Male'].round(1)"
   ]
  },
  {
   "cell_type": "markdown",
   "metadata": {},
   "source": [
    "**3. Какова доля граждан Соединенных Штатов (признак *native-country*)?**"
   ]
  },
  {
   "cell_type": "code",
   "execution_count": 4004,
   "metadata": {},
   "outputs": [
    {
     "name": "stdout",
     "output_type": "stream",
     "text": [
      "89.59%\n"
     ]
    }
   ],
   "source": [
    "all_nat_c_count = data[\"native-country\"].count()\n",
    "nat_c_usa_count = data[data[\"native-country\"] == 'United-States']['native-country'].count()\n",
    "print('{}%'.format((nat_c_usa_count / all_nat_c_count * 100).round(2)))\n",
    "\n",
    "\n"
   ]
  },
  {
   "cell_type": "markdown",
   "metadata": {},
   "source": [
    "**4-5. Рассчитайте среднее значение и среднеквадратичное отклонение возраста тех, кто получает более 50K в год (признак *salary*) и тех, кто получает менее 50K в год**"
   ]
  },
  {
   "cell_type": "code",
   "execution_count": 4005,
   "metadata": {},
   "outputs": [
    {
     "name": "stdout",
     "output_type": "stream",
     "text": [
      "Cредний возраст person >50K per year: 44.2 и среднеквадратичное отклонение: 10.5, средний возраст person <=50K per year: 36.8 и среднеквадратичное отклонение: 14.0\n"
     ]
    }
   ],
   "source": [
    "m_more_t_fift_k = data[data.salary == \">50K\"]['age'].mean().round(1)\n",
    "std_more_t_fift_k = data[data.salary == \">50K\"]['age'].std().round(1)\n",
    "m_less_t_fift_k = data[data.salary == \"<=50K\"]['age'].mean().round(1)\n",
    "std_less_t_fift_k = data[data.salary == \"<=50K\"]['age'].std().round(1)\n",
    "\n",
    "print(\"Cредний возраст person >50K per year: {0} и среднеквадратичное отклонение: {1}, \"\n",
    "      \"средний возраст person <=50K per year: {2} и среднеквадратичное отклонение: {3}\"\n",
    "      .format(m_more_t_fift_k, std_more_t_fift_k, m_less_t_fift_k, std_less_t_fift_k))"
   ]
  },
  {
   "cell_type": "markdown",
   "metadata": {},
   "source": [
    "**6. Правда ли, что люди, которые получают больше 50k, имеют минимум высшее образование? (признак *education – Bachelors, Prof-school, Assoc-acdm, Assoc-voc, Masters* или *Doctorate*)**"
   ]
  },
  {
   "cell_type": "code",
   "execution_count": 4006,
   "outputs": [
    {
     "data": {
      "text/plain": "False"
     },
     "execution_count": 4006,
     "metadata": {},
     "output_type": "execute_result"
    }
   ],
   "source": [
    "all(data[data.salary==\">50K\"][\"education\"].isin([\"Bachelors\", \"Prof-school\", \"Assoc-acdm\", \"Assoc-voc\", \"Masters\", \"Doctorate\"]))\n"
   ],
   "metadata": {
    "collapsed": false
   }
  },
  {
   "cell_type": "code",
   "execution_count": 4007,
   "outputs": [
    {
     "data": {
      "text/plain": "array(['HS-grad', 'Masters', 'Bachelors', 'Some-college', 'Assoc-voc',\n       'Doctorate', 'Prof-school', 'Assoc-acdm', '7th-8th', '12th',\n       '10th', '11th', '9th', '5th-6th', '1st-4th'], dtype=object)"
     },
     "execution_count": 4007,
     "metadata": {},
     "output_type": "execute_result"
    }
   ],
   "source": [
    "# check True:\n",
    "data[data['salary'] == '>50K']['education'].unique()\n"
   ],
   "metadata": {
    "collapsed": false
   }
  },
  {
   "cell_type": "code",
   "execution_count": 4008,
   "metadata": {},
   "outputs": [
    {
     "data": {
      "text/plain": "True"
     },
     "execution_count": 4008,
     "metadata": {},
     "output_type": "execute_result"
    }
   ],
   "source": [
    "all(data[data.salary==\">50K\"][\"education\"].isin(['HS-grad', 'Masters', 'Bachelors', 'Some-college', 'Assoc-voc',\n",
    "       'Doctorate', 'Prof-school', 'Assoc-acdm', '7th-8th', '12th',\n",
    "       '10th', '11th', '9th', '5th-6th', '1st-4th']))\n"
   ]
  },
  {
   "cell_type": "markdown",
   "metadata": {},
   "source": [
    "**7. Выведите статистику возраста для каждой расы (признак *race*) и каждого пола. Используйте *groupby* и *describe*. Найдите таким образом максимальный возраст мужчин расы *Asian-Pac-Islander*.**"
   ]
  },
  {
   "cell_type": "code",
   "execution_count": 4009,
   "metadata": {
    "scrolled": true
   },
   "outputs": [
    {
     "name": "stdout",
     "output_type": "stream",
     "text": [
      "                               age                                          \\\n",
      "                             count       mean        std   min   25%   50%   \n",
      "race               sex                                                       \n",
      "Amer-Indian-Eskimo Female    119.0  37.117647  13.114991  17.0  27.0  36.0   \n",
      "                   Male      192.0  37.208333  12.049563  17.0  28.0  35.0   \n",
      "Asian-Pac-Islander Female    346.0  35.089595  12.300845  17.0  25.0  33.0   \n",
      "                   Male      693.0  39.073593  12.883944  18.0  29.0  37.0   \n",
      "Black              Female   1555.0  37.854019  12.637197  17.0  28.0  37.0   \n",
      "                   Male     1569.0  37.682600  12.882612  17.0  27.0  36.0   \n",
      "Other              Female    109.0  31.678899  11.631599  17.0  23.0  29.0   \n",
      "                   Male      162.0  34.654321  11.355531  17.0  26.0  32.0   \n",
      "White              Female   8642.0  36.811618  14.329093  17.0  25.0  35.0   \n",
      "                   Male    19174.0  39.652498  13.436029  17.0  29.0  38.0   \n",
      "\n",
      "                                         fnlwgt                 ...  \\\n",
      "                             75%   max    count           mean  ...   \n",
      "race               sex                                          ...   \n",
      "Amer-Indian-Eskimo Female  46.00  80.0    119.0  112950.731092  ...   \n",
      "                   Male    45.00  82.0    192.0  125715.364583  ...   \n",
      "Asian-Pac-Islander Female  43.75  75.0    346.0  147452.075145  ...   \n",
      "                   Male    46.00  90.0    693.0  166175.865801  ...   \n",
      "Black              Female  46.00  90.0   1555.0  212971.387781  ...   \n",
      "                   Male    46.00  90.0   1569.0  242920.644997  ...   \n",
      "Other              Female  39.00  74.0    109.0  172519.642202  ...   \n",
      "                   Male    42.00  77.0    162.0  213679.104938  ...   \n",
      "White              Female  46.00  90.0   8642.0  183549.966906  ...   \n",
      "                   Male    49.00  90.0  19174.0  188987.386148  ...   \n",
      "\n",
      "                          capital-loss         hours-per-week             \\\n",
      "                                   75%     max          count       mean   \n",
      "race               sex                                                     \n",
      "Amer-Indian-Eskimo Female          0.0  1721.0          119.0  36.579832   \n",
      "                   Male            0.0  1980.0          192.0  42.197917   \n",
      "Asian-Pac-Islander Female          0.0  2258.0          346.0  37.439306   \n",
      "                   Male            0.0  2457.0          693.0  41.468975   \n",
      "Black              Female          0.0  4356.0         1555.0  36.834084   \n",
      "                   Male            0.0  2824.0         1569.0  39.997451   \n",
      "Other              Female          0.0  1740.0          109.0  35.926606   \n",
      "                   Male            0.0  2179.0          162.0  41.851852   \n",
      "White              Female          0.0  4356.0         8642.0  36.296691   \n",
      "                   Male            0.0  3770.0        19174.0  42.668822   \n",
      "\n",
      "                                                                   \n",
      "                                 std  min   25%   50%   75%   max  \n",
      "race               sex                                             \n",
      "Amer-Indian-Eskimo Female  11.046509  4.0  35.0  40.0  40.0  84.0  \n",
      "                   Male    11.596280  3.0  40.0  40.0  45.0  84.0  \n",
      "Asian-Pac-Islander Female  12.479459  1.0  35.0  40.0  40.0  99.0  \n",
      "                   Male    12.387563  1.0  40.0  40.0  45.0  99.0  \n",
      "Black              Female   9.419960  2.0  35.0  40.0  40.0  99.0  \n",
      "                   Male    10.909413  1.0  40.0  40.0  40.0  99.0  \n",
      "Other              Female  10.300761  6.0  30.0  40.0  40.0  65.0  \n",
      "                   Male    11.084779  5.0  40.0  40.0  40.0  98.0  \n",
      "White              Female  12.190951  1.0  30.0  40.0  40.0  99.0  \n",
      "                   Male    12.194633  1.0  40.0  40.0  50.0  99.0  \n",
      "\n",
      "[10 rows x 48 columns]\n",
      "Asian-Pac-Islander mans max age is 90.0\n"
     ]
    }
   ],
   "source": [
    "group_describe = data.groupby(['race', 'sex']).describe()\n",
    "print(group_describe)\n",
    "print('Asian-Pac-Islander mans max age is', group_describe['age']['max']['Asian-Pac-Islander']['Male'])"
   ]
  },
  {
   "cell_type": "markdown",
   "metadata": {},
   "source": [
    "**8. Среди кого больше доля зарабатывающих много (>50K): среди женатых или холостых мужчин (признак *marital-status*)? Женатыми считаем тех, у кого *marital-status* начинается с *Married* (Married-civ-spouse, Married-spouse-absent или Married-AF-spouse), остальных считаем холостыми.**"
   ]
  },
  {
   "cell_type": "code",
   "execution_count": 4010,
   "metadata": {},
   "outputs": [
    {
     "name": "stdout",
     "output_type": "stream",
     "text": [
      "married_man(>50K): 89.54%\n",
      "not_married_man(>50K): 10.46%\n"
     ]
    }
   ],
   "source": [
    "more_t_50k_m_data = data[(data[\"sex\"] == \"Male\") & (data[\"salary\"] == \">50K\")]\n",
    "all_more_t_50k_m = more_t_50k_m_data.shape[0] # -> 6662\n",
    "print(\"married_man(>50K): {}%\".format(round(more_t_50k_m_data[more_t_50k_m_data['marital-status'].str.startswith('Married')]\n",
    "                                            .shape[0] / all_more_t_50k_m * 100, 2)))\n",
    "print(\"not_married_man(>50K): {}%\".format(round(more_t_50k_m_data[~more_t_50k_m_data['marital-status'].str.startswith('Married')].\n",
    "                                            shape[0] / all_more_t_50k_m * 100, 2)))\n",
    "\n"
   ]
  },
  {
   "cell_type": "markdown",
   "metadata": {},
   "source": [
    "**9. Какое максимальное число часов человек работает в неделю (признак *hours-per-week*)? Сколько людей работают такое количество часов и каков среди них процент зарабатывающих много?**"
   ]
  },
  {
   "cell_type": "code",
   "execution_count": 4011,
   "metadata": {},
   "outputs": [
    {
     "name": "stdout",
     "output_type": "stream",
     "text": [
      "Maximum hours per week for person(unit): 99\n",
      "People with maximum hours per week: 85\n",
      "% with >50k$ of people with maximum hours per week: 29.41%\n"
     ]
    }
   ],
   "source": [
    "print(\"Maximum hours per week for person(unit): {}\"\n",
    "      .format(data[\"hours-per-week\"].max()))\n",
    "print(\"People with maximum hours per week: {}\"\n",
    "      .format(data[data['hours-per-week'] == data[\"hours-per-week\"].max()].shape[0]))\n",
    "print(\"% with >50k$ of people with maximum hours per week: {}%\"\n",
    "      .format(round(data[(data['hours-per-week'] == data[\"hours-per-week\"]\n",
    "      .max()) & (data['salary'] == '>50K')].shape[0]\n",
    "       / int(data[data['hours-per-week'] == data[\"hours-per-week\"].max()].shape[0]) * 100, 2)))\n",
    "\n"
   ]
  },
  {
   "cell_type": "markdown",
   "metadata": {},
   "source": [
    "**10. Посчитайте среднее время работы (*hours-per-week*) зарабатывающих мало и много (*salary*) для каждой страны (*native-country*).**"
   ]
  },
  {
   "cell_type": "code",
   "execution_count": 4012,
   "outputs": [
    {
     "name": "stdout",
     "output_type": "stream",
     "text": [
      "In ? people with salary <=50K working 40.16 hours\n",
      "In ? people with salary >50K working 45.55 hours\n",
      "In Cambodia people with salary <=50K working 41.42 hours\n",
      "In Cambodia people with salary >50K working 40.0 hours\n",
      "In Canada people with salary <=50K working 37.91 hours\n",
      "In Canada people with salary >50K working 45.64 hours\n",
      "In China people with salary <=50K working 37.38 hours\n",
      "In China people with salary >50K working 38.9 hours\n",
      "In Columbia people with salary <=50K working 38.68 hours\n",
      "In Columbia people with salary >50K working 50.0 hours\n",
      "In Cuba people with salary <=50K working 37.99 hours\n",
      "In Cuba people with salary >50K working 42.44 hours\n",
      "In Dominican-Republic people with salary <=50K working 42.34 hours\n",
      "In Dominican-Republic people with salary >50K working 47.0 hours\n",
      "In Ecuador people with salary <=50K working 38.04 hours\n",
      "In Ecuador people with salary >50K working 48.75 hours\n",
      "In El-Salvador people with salary <=50K working 36.03 hours\n",
      "In El-Salvador people with salary >50K working 45.0 hours\n",
      "In England people with salary <=50K working 40.48 hours\n",
      "In England people with salary >50K working 44.53 hours\n",
      "In France people with salary <=50K working 41.06 hours\n",
      "In France people with salary >50K working 50.75 hours\n",
      "In Germany people with salary <=50K working 39.14 hours\n",
      "In Germany people with salary >50K working 44.98 hours\n",
      "In Greece people with salary <=50K working 41.81 hours\n",
      "In Greece people with salary >50K working 50.62 hours\n",
      "In Guatemala people with salary <=50K working 39.36 hours\n",
      "In Guatemala people with salary >50K working 36.67 hours\n",
      "In Haiti people with salary <=50K working 36.33 hours\n",
      "In Haiti people with salary >50K working 42.75 hours\n",
      "In Holand-Netherlands people with salary <=50K working 40.0 hours\n",
      "In Honduras people with salary <=50K working 34.33 hours\n",
      "In Honduras people with salary >50K working 60.0 hours\n",
      "In Hong people with salary <=50K working 39.14 hours\n",
      "In Hong people with salary >50K working 45.0 hours\n",
      "In Hungary people with salary <=50K working 31.3 hours\n",
      "In Hungary people with salary >50K working 50.0 hours\n",
      "In India people with salary <=50K working 38.23 hours\n",
      "In India people with salary >50K working 46.48 hours\n",
      "In Iran people with salary <=50K working 41.44 hours\n",
      "In Iran people with salary >50K working 47.5 hours\n",
      "In Ireland people with salary <=50K working 40.95 hours\n",
      "In Ireland people with salary >50K working 48.0 hours\n",
      "In Italy people with salary <=50K working 39.62 hours\n",
      "In Italy people with salary >50K working 45.4 hours\n",
      "In Jamaica people with salary <=50K working 38.24 hours\n",
      "In Jamaica people with salary >50K working 41.1 hours\n",
      "In Japan people with salary <=50K working 41.0 hours\n",
      "In Japan people with salary >50K working 47.96 hours\n",
      "In Laos people with salary <=50K working 40.38 hours\n",
      "In Laos people with salary >50K working 40.0 hours\n",
      "In Mexico people with salary <=50K working 40.0 hours\n",
      "In Mexico people with salary >50K working 46.58 hours\n",
      "In Nicaragua people with salary <=50K working 36.09 hours\n",
      "In Nicaragua people with salary >50K working 37.5 hours\n",
      "In Outlying-US(Guam-USVI-etc) people with salary <=50K working 41.86 hours\n",
      "In Peru people with salary <=50K working 35.07 hours\n",
      "In Peru people with salary >50K working 40.0 hours\n",
      "In Philippines people with salary <=50K working 38.07 hours\n",
      "In Philippines people with salary >50K working 43.03 hours\n",
      "In Poland people with salary <=50K working 38.17 hours\n",
      "In Poland people with salary >50K working 39.0 hours\n",
      "In Portugal people with salary <=50K working 41.94 hours\n",
      "In Portugal people with salary >50K working 41.5 hours\n",
      "In Puerto-Rico people with salary <=50K working 38.47 hours\n",
      "In Puerto-Rico people with salary >50K working 39.42 hours\n",
      "In Scotland people with salary <=50K working 39.44 hours\n",
      "In Scotland people with salary >50K working 46.67 hours\n",
      "In South people with salary <=50K working 40.16 hours\n",
      "In South people with salary >50K working 51.44 hours\n",
      "In Taiwan people with salary <=50K working 33.77 hours\n",
      "In Taiwan people with salary >50K working 46.8 hours\n",
      "In Thailand people with salary <=50K working 42.87 hours\n",
      "In Thailand people with salary >50K working 58.33 hours\n",
      "In Trinadad&Tobago people with salary <=50K working 37.06 hours\n",
      "In Trinadad&Tobago people with salary >50K working 40.0 hours\n",
      "In United-States people with salary <=50K working 38.8 hours\n",
      "In United-States people with salary >50K working 45.51 hours\n",
      "In Vietnam people with salary <=50K working 37.19 hours\n",
      "In Vietnam people with salary >50K working 39.2 hours\n",
      "In Yugoslavia people with salary <=50K working 41.6 hours\n",
      "In Yugoslavia people with salary >50K working 49.5 hours\n"
     ]
    }
   ],
   "source": [
    "# 1\n",
    "for (c, sal), d in data.groupby(['native-country','salary']):\n",
    "    print(\"In {} people with salary {} working {} hours\"\n",
    "          .format(c, sal, d['hours-per-week'].mean().round(2)))\n"
   ],
   "metadata": {
    "collapsed": false
   }
  },
  {
   "cell_type": "code",
   "execution_count": 4013,
   "outputs": [
    {
     "name": "stdout",
     "output_type": "stream",
     "text": [
      "native-country  salary\n",
      "?               <=50K     40.16\n",
      "                >50K      45.55\n",
      "Cambodia        <=50K     41.42\n",
      "                >50K      40.00\n",
      "Canada          <=50K     37.91\n",
      "                          ...  \n",
      "United-States   >50K      45.51\n",
      "Vietnam         <=50K     37.19\n",
      "                >50K      39.20\n",
      "Yugoslavia      <=50K     41.60\n",
      "                >50K      49.50\n",
      "Name: hours-per-week, Length: 82, dtype: float64\n"
     ]
    }
   ],
   "source": [
    "# 2\n",
    "print(data.groupby(['native-country', 'salary'])['hours-per-week'].mean().round(2))\n"
   ],
   "metadata": {
    "collapsed": false
   }
  },
  {
   "cell_type": "code",
   "execution_count": 4014,
   "metadata": {
    "scrolled": true
   },
   "outputs": [
    {
     "name": "stdout",
     "output_type": "stream",
     "text": [
      "native-country\n",
      "?                             40.16\n",
      "Cambodia                      41.42\n",
      "Canada                        37.91\n",
      "China                         37.38\n",
      "Columbia                      38.68\n",
      "Cuba                          37.99\n",
      "Dominican-Republic            42.34\n",
      "Ecuador                       38.04\n",
      "El-Salvador                   36.03\n",
      "England                       40.48\n",
      "France                        41.06\n",
      "Germany                       39.14\n",
      "Greece                        41.81\n",
      "Guatemala                     39.36\n",
      "Haiti                         36.33\n",
      "Holand-Netherlands            40.00\n",
      "Honduras                      34.33\n",
      "Hong                          39.14\n",
      "Hungary                       31.30\n",
      "India                         38.23\n",
      "Iran                          41.44\n",
      "Ireland                       40.95\n",
      "Italy                         39.62\n",
      "Jamaica                       38.24\n",
      "Japan                         41.00\n",
      "Laos                          40.38\n",
      "Mexico                        40.00\n",
      "Nicaragua                     36.09\n",
      "Outlying-US(Guam-USVI-etc)    41.86\n",
      "Peru                          35.07\n",
      "Philippines                   38.07\n",
      "Poland                        38.17\n",
      "Portugal                      41.94\n",
      "Puerto-Rico                   38.47\n",
      "Scotland                      39.44\n",
      "South                         40.16\n",
      "Taiwan                        33.77\n",
      "Thailand                      42.87\n",
      "Trinadad&Tobago               37.06\n",
      "United-States                 38.80\n",
      "Vietnam                       37.19\n",
      "Yugoslavia                    41.60\n",
      "Name: hours-per-week, dtype: float64\n",
      "native-country\n",
      "?                     45.55\n",
      "Cambodia              40.00\n",
      "Canada                45.64\n",
      "China                 38.90\n",
      "Columbia              50.00\n",
      "Cuba                  42.44\n",
      "Dominican-Republic    47.00\n",
      "Ecuador               48.75\n",
      "El-Salvador           45.00\n",
      "England               44.53\n",
      "France                50.75\n",
      "Germany               44.98\n",
      "Greece                50.62\n",
      "Guatemala             36.67\n",
      "Haiti                 42.75\n",
      "Honduras              60.00\n",
      "Hong                  45.00\n",
      "Hungary               50.00\n",
      "India                 46.48\n",
      "Iran                  47.50\n",
      "Ireland               48.00\n",
      "Italy                 45.40\n",
      "Jamaica               41.10\n",
      "Japan                 47.96\n",
      "Laos                  40.00\n",
      "Mexico                46.58\n",
      "Nicaragua             37.50\n",
      "Peru                  40.00\n",
      "Philippines           43.03\n",
      "Poland                39.00\n",
      "Portugal              41.50\n",
      "Puerto-Rico           39.42\n",
      "Scotland              46.67\n",
      "South                 51.44\n",
      "Taiwan                46.80\n",
      "Thailand              58.33\n",
      "Trinadad&Tobago       40.00\n",
      "United-States         45.51\n",
      "Vietnam               39.20\n",
      "Yugoslavia            49.50\n",
      "Name: hours-per-week, dtype: float64\n"
     ]
    }
   ],
   "source": [
    "# 3\n",
    "print(data.where(data['salary']=='<=50K').groupby(['native-country'])['hours-per-week'].mean().round(2))\n",
    "print(data.where(data['salary']=='>50K').groupby(['native-country'])['hours-per-week'].mean().round(2))"
   ]
  },
  {
   "cell_type": "markdown",
   "metadata": {},
   "source": [
    "**11.Сгруппируйте людей по возрастным группам *young*, *adult*, *retiree*, где:**\n",
    "* *young* соответствует 16-35 лет\n",
    "* *adult* - 35-70 лет\n",
    "* *retiree* - 70-100 лет\n",
    "\n",
    "**Проставьте название соответсвтуещей группы для каждого человека в новой колонке AgeGroup**"
   ]
  },
  {
   "cell_type": "code",
   "execution_count": 4015,
   "outputs": [
    {
     "name": "stdout",
     "output_type": "stream",
     "text": [
      "       age  workclass  fnlwgt   education  education-num      marital-status  \\\n",
      "4       28    Private  338409   Bachelors             13  Married-civ-spouse   \n",
      "8       31    Private   45781     Masters             14       Never-married   \n",
      "11      30  State-gov  141297   Bachelors             13  Married-civ-spouse   \n",
      "12      23    Private  122272   Bachelors             13       Never-married   \n",
      "13      32    Private  205019  Assoc-acdm             12       Never-married   \n",
      "...    ...        ...     ...         ...            ...                 ...   \n",
      "32494   82          ?  403910     HS-grad              9       Never-married   \n",
      "32501   71    Private  138145         9th              5  Married-civ-spouse   \n",
      "32525   81          ?  120478   Assoc-voc             11            Divorced   \n",
      "32539   71          ?  287372   Doctorate             16  Married-civ-spouse   \n",
      "32542   72          ?  129912     HS-grad              9  Married-civ-spouse   \n",
      "\n",
      "           occupation   relationship                race     sex  \\\n",
      "4      Prof-specialty           Wife               Black  Female   \n",
      "8      Prof-specialty  Not-in-family               White  Female   \n",
      "11     Prof-specialty        Husband  Asian-Pac-Islander    Male   \n",
      "12       Adm-clerical      Own-child               White  Female   \n",
      "13              Sales  Not-in-family               Black    Male   \n",
      "...               ...            ...                 ...     ...   \n",
      "32494               ?  Not-in-family               White    Male   \n",
      "32501   Other-service        Husband               White    Male   \n",
      "32525               ?      Unmarried               White  Female   \n",
      "32539               ?        Husband               White    Male   \n",
      "32542               ?        Husband               White    Male   \n",
      "\n",
      "       capital-gain  capital-loss  hours-per-week native-country salary  \\\n",
      "4                 0             0              40           Cuba  <=50K   \n",
      "8             14084             0              50  United-States   >50K   \n",
      "11                0             0              40          India   >50K   \n",
      "12                0             0              30  United-States  <=50K   \n",
      "13                0             0              50  United-States  <=50K   \n",
      "...             ...           ...             ...            ...    ...   \n",
      "32494             0             0               3  United-States  <=50K   \n",
      "32501             0             0              40  United-States  <=50K   \n",
      "32525             0             0               1              ?  <=50K   \n",
      "32539             0             0              10  United-States   >50K   \n",
      "32542             0             0              25  United-States  <=50K   \n",
      "\n",
      "      AgeGroup  \n",
      "4        young  \n",
      "8        young  \n",
      "11       young  \n",
      "12       young  \n",
      "13       young  \n",
      "...        ...  \n",
      "32494  retiree  \n",
      "32501  retiree  \n",
      "32525  retiree  \n",
      "32539  retiree  \n",
      "32542  retiree  \n",
      "\n",
      "[32561 rows x 16 columns]\n"
     ]
    }
   ],
   "source": [
    "# 1\n",
    "young = data.query('age >= 16 and age < 35')\n",
    "young.insert(15, 'AgeGroup', 'young')\n",
    "adult = data.query('age >= 35 and age < 70')\n",
    "adult.insert(15, 'AgeGroup', 'adult')\n",
    "retiree = data.query('age >= 70 and age <= 100')\n",
    "retiree.insert(15, 'AgeGroup', 'retiree')\n",
    "\n",
    "print(pd.concat([young, adult, retiree], sort=False, axis=0))\n"
   ],
   "metadata": {
    "collapsed": false
   }
  },
  {
   "cell_type": "code",
   "execution_count": 4016,
   "outputs": [
    {
     "name": "stdout",
     "output_type": "stream",
     "text": [
      "       age         workclass  fnlwgt   education  education-num  \\\n",
      "0       39         State-gov   77516   Bachelors             13   \n",
      "1       50  Self-emp-not-inc   83311   Bachelors             13   \n",
      "2       38           Private  215646     HS-grad              9   \n",
      "3       53           Private  234721        11th              7   \n",
      "4       28           Private  338409   Bachelors             13   \n",
      "...    ...               ...     ...         ...            ...   \n",
      "32556   27           Private  257302  Assoc-acdm             12   \n",
      "32557   40           Private  154374     HS-grad              9   \n",
      "32558   58           Private  151910     HS-grad              9   \n",
      "32559   22           Private  201490     HS-grad              9   \n",
      "32560   52      Self-emp-inc  287927     HS-grad              9   \n",
      "\n",
      "           marital-status         occupation   relationship   race     sex  \\\n",
      "0           Never-married       Adm-clerical  Not-in-family  White    Male   \n",
      "1      Married-civ-spouse    Exec-managerial        Husband  White    Male   \n",
      "2                Divorced  Handlers-cleaners  Not-in-family  White    Male   \n",
      "3      Married-civ-spouse  Handlers-cleaners        Husband  Black    Male   \n",
      "4      Married-civ-spouse     Prof-specialty           Wife  Black  Female   \n",
      "...                   ...                ...            ...    ...     ...   \n",
      "32556  Married-civ-spouse       Tech-support           Wife  White  Female   \n",
      "32557  Married-civ-spouse  Machine-op-inspct        Husband  White    Male   \n",
      "32558             Widowed       Adm-clerical      Unmarried  White  Female   \n",
      "32559       Never-married       Adm-clerical      Own-child  White    Male   \n",
      "32560  Married-civ-spouse    Exec-managerial           Wife  White  Female   \n",
      "\n",
      "       capital-gain  capital-loss  hours-per-week native-country salary  \\\n",
      "0              2174             0              40  United-States  <=50K   \n",
      "1                 0             0              13  United-States  <=50K   \n",
      "2                 0             0              40  United-States  <=50K   \n",
      "3                 0             0              40  United-States  <=50K   \n",
      "4                 0             0              40           Cuba  <=50K   \n",
      "...             ...           ...             ...            ...    ...   \n",
      "32556             0             0              38  United-States  <=50K   \n",
      "32557             0             0              40  United-States   >50K   \n",
      "32558             0             0              40  United-States  <=50K   \n",
      "32559             0             0              20  United-States  <=50K   \n",
      "32560         15024             0              40  United-States   >50K   \n",
      "\n",
      "      AgeGroup  \n",
      "0        adult  \n",
      "1        adult  \n",
      "2        adult  \n",
      "3        adult  \n",
      "4        young  \n",
      "...        ...  \n",
      "32556    young  \n",
      "32557    adult  \n",
      "32558    adult  \n",
      "32559    young  \n",
      "32560    adult  \n",
      "\n",
      "[32561 rows x 16 columns]\n"
     ]
    }
   ],
   "source": [
    "# 2\n",
    "data.loc[((data['age']>=16) & (data['age']<35)),'AgeGroup']='young'\n",
    "data.loc[((data['age']>=35) & (data['age']<70)),'AgeGroup']='adult'\n",
    "data.loc[((data['age']>=70) & (data['age']<=100)),'AgeGroup']='retiree'\n",
    "print(data)"
   ],
   "metadata": {
    "collapsed": false
   }
  },
  {
   "cell_type": "code",
   "execution_count": 4017,
   "metadata": {
    "scrolled": true
   },
   "outputs": [
    {
     "data": {
      "text/plain": "   age         workclass  fnlwgt  education  education-num  \\\n0   39         State-gov   77516  Bachelors             13   \n1   50  Self-emp-not-inc   83311  Bachelors             13   \n2   38           Private  215646    HS-grad              9   \n3   53           Private  234721       11th              7   \n4   28           Private  338409  Bachelors             13   \n5   37           Private  284582    Masters             14   \n6   49           Private  160187        9th              5   \n7   52  Self-emp-not-inc  209642    HS-grad              9   \n8   31           Private   45781    Masters             14   \n9   42           Private  159449  Bachelors             13   \n\n          marital-status         occupation   relationship   race     sex  \\\n0          Never-married       Adm-clerical  Not-in-family  White    Male   \n1     Married-civ-spouse    Exec-managerial        Husband  White    Male   \n2               Divorced  Handlers-cleaners  Not-in-family  White    Male   \n3     Married-civ-spouse  Handlers-cleaners        Husband  Black    Male   \n4     Married-civ-spouse     Prof-specialty           Wife  Black  Female   \n5     Married-civ-spouse    Exec-managerial           Wife  White  Female   \n6  Married-spouse-absent      Other-service  Not-in-family  Black  Female   \n7     Married-civ-spouse    Exec-managerial        Husband  White    Male   \n8          Never-married     Prof-specialty  Not-in-family  White  Female   \n9     Married-civ-spouse    Exec-managerial        Husband  White    Male   \n\n   capital-gain  capital-loss  hours-per-week native-country salary AgeGroup  \n0          2174             0              40  United-States  <=50K    adult  \n1             0             0              13  United-States  <=50K    adult  \n2             0             0              40  United-States  <=50K    adult  \n3             0             0              40  United-States  <=50K    adult  \n4             0             0              40           Cuba  <=50K    young  \n5             0             0              40  United-States  <=50K    adult  \n6             0             0              16        Jamaica  <=50K    adult  \n7             0             0              45  United-States   >50K    adult  \n8         14084             0              50  United-States   >50K    young  \n9          5178             0              40  United-States   >50K    adult  ",
      "text/html": "<div>\n<style scoped>\n    .dataframe tbody tr th:only-of-type {\n        vertical-align: middle;\n    }\n\n    .dataframe tbody tr th {\n        vertical-align: top;\n    }\n\n    .dataframe thead th {\n        text-align: right;\n    }\n</style>\n<table border=\"1\" class=\"dataframe\">\n  <thead>\n    <tr style=\"text-align: right;\">\n      <th></th>\n      <th>age</th>\n      <th>workclass</th>\n      <th>fnlwgt</th>\n      <th>education</th>\n      <th>education-num</th>\n      <th>marital-status</th>\n      <th>occupation</th>\n      <th>relationship</th>\n      <th>race</th>\n      <th>sex</th>\n      <th>capital-gain</th>\n      <th>capital-loss</th>\n      <th>hours-per-week</th>\n      <th>native-country</th>\n      <th>salary</th>\n      <th>AgeGroup</th>\n    </tr>\n  </thead>\n  <tbody>\n    <tr>\n      <th>0</th>\n      <td>39</td>\n      <td>State-gov</td>\n      <td>77516</td>\n      <td>Bachelors</td>\n      <td>13</td>\n      <td>Never-married</td>\n      <td>Adm-clerical</td>\n      <td>Not-in-family</td>\n      <td>White</td>\n      <td>Male</td>\n      <td>2174</td>\n      <td>0</td>\n      <td>40</td>\n      <td>United-States</td>\n      <td>&lt;=50K</td>\n      <td>adult</td>\n    </tr>\n    <tr>\n      <th>1</th>\n      <td>50</td>\n      <td>Self-emp-not-inc</td>\n      <td>83311</td>\n      <td>Bachelors</td>\n      <td>13</td>\n      <td>Married-civ-spouse</td>\n      <td>Exec-managerial</td>\n      <td>Husband</td>\n      <td>White</td>\n      <td>Male</td>\n      <td>0</td>\n      <td>0</td>\n      <td>13</td>\n      <td>United-States</td>\n      <td>&lt;=50K</td>\n      <td>adult</td>\n    </tr>\n    <tr>\n      <th>2</th>\n      <td>38</td>\n      <td>Private</td>\n      <td>215646</td>\n      <td>HS-grad</td>\n      <td>9</td>\n      <td>Divorced</td>\n      <td>Handlers-cleaners</td>\n      <td>Not-in-family</td>\n      <td>White</td>\n      <td>Male</td>\n      <td>0</td>\n      <td>0</td>\n      <td>40</td>\n      <td>United-States</td>\n      <td>&lt;=50K</td>\n      <td>adult</td>\n    </tr>\n    <tr>\n      <th>3</th>\n      <td>53</td>\n      <td>Private</td>\n      <td>234721</td>\n      <td>11th</td>\n      <td>7</td>\n      <td>Married-civ-spouse</td>\n      <td>Handlers-cleaners</td>\n      <td>Husband</td>\n      <td>Black</td>\n      <td>Male</td>\n      <td>0</td>\n      <td>0</td>\n      <td>40</td>\n      <td>United-States</td>\n      <td>&lt;=50K</td>\n      <td>adult</td>\n    </tr>\n    <tr>\n      <th>4</th>\n      <td>28</td>\n      <td>Private</td>\n      <td>338409</td>\n      <td>Bachelors</td>\n      <td>13</td>\n      <td>Married-civ-spouse</td>\n      <td>Prof-specialty</td>\n      <td>Wife</td>\n      <td>Black</td>\n      <td>Female</td>\n      <td>0</td>\n      <td>0</td>\n      <td>40</td>\n      <td>Cuba</td>\n      <td>&lt;=50K</td>\n      <td>young</td>\n    </tr>\n    <tr>\n      <th>5</th>\n      <td>37</td>\n      <td>Private</td>\n      <td>284582</td>\n      <td>Masters</td>\n      <td>14</td>\n      <td>Married-civ-spouse</td>\n      <td>Exec-managerial</td>\n      <td>Wife</td>\n      <td>White</td>\n      <td>Female</td>\n      <td>0</td>\n      <td>0</td>\n      <td>40</td>\n      <td>United-States</td>\n      <td>&lt;=50K</td>\n      <td>adult</td>\n    </tr>\n    <tr>\n      <th>6</th>\n      <td>49</td>\n      <td>Private</td>\n      <td>160187</td>\n      <td>9th</td>\n      <td>5</td>\n      <td>Married-spouse-absent</td>\n      <td>Other-service</td>\n      <td>Not-in-family</td>\n      <td>Black</td>\n      <td>Female</td>\n      <td>0</td>\n      <td>0</td>\n      <td>16</td>\n      <td>Jamaica</td>\n      <td>&lt;=50K</td>\n      <td>adult</td>\n    </tr>\n    <tr>\n      <th>7</th>\n      <td>52</td>\n      <td>Self-emp-not-inc</td>\n      <td>209642</td>\n      <td>HS-grad</td>\n      <td>9</td>\n      <td>Married-civ-spouse</td>\n      <td>Exec-managerial</td>\n      <td>Husband</td>\n      <td>White</td>\n      <td>Male</td>\n      <td>0</td>\n      <td>0</td>\n      <td>45</td>\n      <td>United-States</td>\n      <td>&gt;50K</td>\n      <td>adult</td>\n    </tr>\n    <tr>\n      <th>8</th>\n      <td>31</td>\n      <td>Private</td>\n      <td>45781</td>\n      <td>Masters</td>\n      <td>14</td>\n      <td>Never-married</td>\n      <td>Prof-specialty</td>\n      <td>Not-in-family</td>\n      <td>White</td>\n      <td>Female</td>\n      <td>14084</td>\n      <td>0</td>\n      <td>50</td>\n      <td>United-States</td>\n      <td>&gt;50K</td>\n      <td>young</td>\n    </tr>\n    <tr>\n      <th>9</th>\n      <td>42</td>\n      <td>Private</td>\n      <td>159449</td>\n      <td>Bachelors</td>\n      <td>13</td>\n      <td>Married-civ-spouse</td>\n      <td>Exec-managerial</td>\n      <td>Husband</td>\n      <td>White</td>\n      <td>Male</td>\n      <td>5178</td>\n      <td>0</td>\n      <td>40</td>\n      <td>United-States</td>\n      <td>&gt;50K</td>\n      <td>adult</td>\n    </tr>\n  </tbody>\n</table>\n</div>"
     },
     "execution_count": 4017,
     "metadata": {},
     "output_type": "execute_result"
    }
   ],
   "source": [
    "# 3\n",
    "import numpy as np\n",
    "\n",
    "conditions = [\n",
    "             (data['age'] >= 16) & (data['age'] < 35),\n",
    "             (data['age'] >= 35) & (data['age'] < 70),\n",
    "             (data['age'] >= 70) & (data['age'] <= 100)]\n",
    "values = ['young','adult','retiree']\n",
    "data['AgeGroup'] = np.select(conditions, values)\n",
    "data.head(10)\n"
   ]
  },
  {
   "cell_type": "markdown",
   "metadata": {},
   "source": [
    "**12-13. Определите количество зарабатывающих >50K в каждой из возрастных групп (колонка AgeGroup), а также выведите название возрастной группы, в которой чаще зарабатывают больше 50К (>50K)**"
   ]
  },
  {
   "cell_type": "code",
   "execution_count": 4018,
   "outputs": [
    {
     "name": "stdout",
     "output_type": "stream",
     "text": [
      "adult      6240\n",
      "young      1488\n",
      "retiree     113\n",
      "Name: AgeGroup, dtype: int64\n",
      "adult\n"
     ]
    }
   ],
   "source": [
    "# 1\n",
    "print(data[data[\"salary\"]==\">50K\"][\"AgeGroup\"].value_counts())\n",
    "print(data[data[\"salary\"]==\">50K\"][\"AgeGroup\"].value_counts().idxmax())"
   ],
   "metadata": {
    "collapsed": false
   }
  },
  {
   "cell_type": "code",
   "execution_count": 4019,
   "metadata": {},
   "outputs": [
    {
     "name": "stdout",
     "output_type": "stream",
     "text": [
      "1488\n",
      "6240\n",
      "113\n",
      "adult\n"
     ]
    }
   ],
   "source": [
    "# 2\n",
    "print(data['salary'].where((data['salary']=='>50K') & (data['AgeGroup']=='young')).count())\n",
    "print(data['salary'].where((data['salary']=='>50K') & (data['AgeGroup']=='adult')).count())\n",
    "print(data['salary'].where((data['salary']=='>50K') & (data['AgeGroup']=='retiree')).count())\n",
    "print(data.where(data['salary']=='>50K').groupby(['AgeGroup'])['AgeGroup'].count().idxmax())\n",
    "\n"
   ]
  },
  {
   "cell_type": "markdown",
   "metadata": {},
   "source": [
    "**14. Сгруппируйте людей по типу занятости (колонка occupation) и определите количество людей в каждой группе. После чего напишите функциюю фильтрации filter_func, которая будет возвращать только те группы, в которых средний возраст (колонка age) не больше 40 и в которых все работники отрабатывают более 5 часов в неделю (колонка hours-per-week)**"
   ]
  },
  {
   "cell_type": "code",
   "execution_count": 4020,
   "outputs": [
    {
     "name": "stdout",
     "output_type": "stream",
     "text": [
      "Prof-specialty       4140\n",
      "Craft-repair         4099\n",
      "Exec-managerial      4066\n",
      "Adm-clerical         3770\n",
      "Sales                3650\n",
      "Other-service        3295\n",
      "Machine-op-inspct    2002\n",
      "?                    1843\n",
      "Transport-moving     1597\n",
      "Handlers-cleaners    1370\n",
      "Farming-fishing       994\n",
      "Tech-support          928\n",
      "Protective-serv       649\n",
      "Priv-house-serv       149\n",
      "Armed-Forces            9\n",
      "Name: occupation, dtype: int64\n"
     ]
    }
   ],
   "source": [
    "print(data['occupation'].value_counts())"
   ],
   "metadata": {
    "collapsed": false
   }
  },
  {
   "cell_type": "code",
   "execution_count": 4021,
   "outputs": [
    {
     "name": "stdout",
     "output_type": "stream",
     "text": [
      "occupation\n",
      "?                    1843\n",
      "Adm-clerical         3770\n",
      "Armed-Forces            9\n",
      "Craft-repair         4099\n",
      "Exec-managerial      4066\n",
      "Farming-fishing       994\n",
      "Handlers-cleaners    1370\n",
      "Machine-op-inspct    2002\n",
      "Other-service        3295\n",
      "Priv-house-serv       149\n",
      "Prof-specialty       4140\n",
      "Protective-serv       649\n",
      "Sales                3650\n",
      "Tech-support          928\n",
      "Transport-moving     1597\n",
      "Name: occupation, dtype: int64\n"
     ]
    }
   ],
   "source": [
    "print(data.groupby(\"occupation\")[\"occupation\"].count())"
   ],
   "metadata": {
    "collapsed": false
   }
  },
  {
   "cell_type": "code",
   "execution_count": 4022,
   "metadata": {},
   "outputs": [
    {
     "data": {
      "text/plain": "occupation\nArmed-Forces    9\nName: age, dtype: int64"
     },
     "execution_count": 4022,
     "metadata": {},
     "output_type": "execute_result"
    }
   ],
   "source": [
    "def filter_func(grouped_data):\n",
    "    return (grouped_data[\"age\"].mean() <= 40) & all(grouped_data[\"hours-per-week\"] > 5)\n",
    "\n",
    "data.groupby(\"occupation\").filter(filter_func).groupby('occupation')['age'].count()\n",
    "\n",
    "\n",
    "\n",
    "\n",
    "\n",
    "\n",
    "\n",
    "\n",
    "\n"
   ]
  }
 ],
 "metadata": {
  "anaconda-cloud": {},
  "kernelspec": {
   "display_name": "Python 3 (ipykernel)",
   "language": "python",
   "name": "python3"
  },
  "language_info": {
   "codemirror_mode": {
    "name": "ipython",
    "version": 3
   },
   "file_extension": ".py",
   "mimetype": "text/x-python",
   "name": "python",
   "nbconvert_exporter": "python",
   "pygments_lexer": "ipython3",
   "version": "3.8.10"
  }
 },
 "nbformat": 4,
 "nbformat_minor": 1
}
