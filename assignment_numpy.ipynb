{
 "cells": [
  {
   "cell_type": "markdown",
   "id": "d3df79dd",
   "metadata": {},
   "source": [
    "## Упражнения по библиотеке Numpy"
   ]
  },
  {
   "cell_type": "code",
   "execution_count": 22,
   "id": "76b9c43b",
   "metadata": {},
   "outputs": [],
   "source": [
    "import numpy as np"
   ]
  },
  {
   "cell_type": "markdown",
   "id": "03727b7c",
   "metadata": {},
   "source": [
    "**1.** Дан случайный массив, поменять знак у элементов, значения которых между 3 и 8"
   ]
  },
  {
   "cell_type": "code",
   "execution_count": 23,
   "id": "b89a7523",
   "metadata": {},
   "outputs": [
    {
     "name": "stdout",
     "output_type": "stream",
     "text": [
      "[19 11  7 18 14 19 13  4 14  6]\n",
      "[19 11 -7 18 14 19 13 -4 14 -6]\n"
     ]
    }
   ],
   "source": [
    "mas = np.random.randint(20, size=10)\n",
    "print(mas)\n",
    "mas = np.where((mas > 3) & (mas < 8), mas * -1, mas)\n",
    "print(mas)\n"
   ]
  },
  {
   "cell_type": "markdown",
   "id": "5fa4abda",
   "metadata": {},
   "source": [
    "**2.** Заменить максимальный элемент случайного массива на 0"
   ]
  },
  {
   "cell_type": "code",
   "execution_count": 24,
   "id": "f2788a6e",
   "metadata": {},
   "outputs": [
    {
     "name": "stdout",
     "output_type": "stream",
     "text": [
      "[963 242 102 287 421 343 798 254 955  95]\n",
      "963\n",
      "[  0 242 102 287 421 343 798 254 955  95]\n"
     ]
    }
   ],
   "source": [
    "bas = np.random.randint(1000, size=10)\n",
    "print(bas)\n",
    "max_bas = np.max(bas)\n",
    "print(max_bas)\n",
    "bas = np.where((bas == max_bas), 0, bas)\n",
    "print(bas)"
   ]
  },
  {
   "cell_type": "markdown",
   "source": [
    "**3.** Построить прямое произведение массивов (все комбинации с каждым элементом). На вход подается двумерный массив"
   ],
   "metadata": {
    "collapsed": false
   }
  },
  {
   "cell_type": "code",
   "execution_count": 25,
   "id": "3396b764",
   "metadata": {},
   "outputs": [
    {
     "name": "stdout",
     "output_type": "stream",
     "text": [
      "[[0 2 2 2 0]\n",
      " [1 3 2 2 3]\n",
      " [1 2 0 1 1]\n",
      " [0 2 2 1 3]\n",
      " [0 0 0 3 3]]\n",
      "[[3 0 1 3 1]\n",
      " [3 3 1 1 4]\n",
      " [3 3 2 0 3]\n",
      " [0 4 3 3 1]\n",
      " [2 1 4 3 4]]\n",
      "[[12 20 12  8 16]\n",
      " [24 26 26 21 33]\n",
      " [11 11 10 11 14]\n",
      " [18 19 21 14 27]\n",
      " [ 6 15 21 18 15]]\n"
     ]
    }
   ],
   "source": [
    "a = np.random.randint(0, 4, (5, 5))\n",
    "b = np.random.randint(0, 5, (5, 5))\n",
    "print(a, b, sep='\\n')\n",
    "print(np.dot(a, b))\n",
    "\n"
   ]
  },
  {
   "cell_type": "markdown",
   "id": "674c9354",
   "metadata": {},
   "source": [
    "**4.** Даны 2 массива A (8x3) и B (2x2). Найти строки в A, которые содержат элементы из каждой строки в B, независимо от порядка элементов в B"
   ]
  },
  {
   "cell_type": "code",
   "execution_count": 26,
   "id": "cb664782",
   "metadata": {},
   "outputs": [
    {
     "name": "stdout",
     "output_type": "stream",
     "text": [
      "A: \n",
      "[[4 7 6]\n",
      " [3 7 6]\n",
      " [2 0 3]\n",
      " [6 6 1]\n",
      " [9 9 6]\n",
      " [8 7 6]\n",
      " [1 0 5]\n",
      " [7 1 5]]\n",
      "B: \n",
      "[[6 7]\n",
      " [8 5]]\n",
      "\n",
      "OUT:\n",
      "\n",
      "[[False  True  True]\n",
      " [False  True  True]\n",
      " [False False False]\n",
      " [ True  True False]\n",
      " [False False  True]\n",
      " [ True  True  True]\n",
      " [False False  True]\n",
      " [ True False  True]]\n",
      "\n",
      "[2 2 0 2 1 3 1 2]\n",
      "\n",
      "[[4 7 6]\n",
      " [3 7 6]\n",
      " [6 6 1]\n",
      " [9 9 6]\n",
      " [8 7 6]\n",
      " [1 0 5]\n",
      " [7 1 5]]\n"
     ]
    }
   ],
   "source": [
    "a = np.random.randint(0, 10, (8, 3))\n",
    "b = np.random.randint(0, 10, (2, 2))\n",
    "print(\"A: \\n{}\\nB: \\n{}\\n\".format(a, b), end='\\nOUT:\\n\\n')\n",
    "x_i = np.isin(a, b)\n",
    "print(x_i, end='\\n\\n')\n",
    "true_sum_x_i = np.sum(x_i, axis=1)\n",
    "print(true_sum_x_i, end=\"\\n\\n\")\n",
    "print(a[np.where(true_sum_x_i > 0)] )\n"
   ]
  },
  {
   "cell_type": "markdown",
   "id": "fa46533b",
   "metadata": {},
   "source": [
    "**5.** Дана 10x3 матрица, найти строки из неравных значений (например строка [2,2,3] остается, строка [3,3,3] удаляется)"
   ]
  },
  {
   "cell_type": "code",
   "execution_count": 27,
   "id": "fa545b23",
   "metadata": {},
   "outputs": [
    {
     "name": "stdout",
     "output_type": "stream",
     "text": [
      "[[1 0 1]\n",
      " [1 0 0]\n",
      " [1 1 1]\n",
      " [0 0 1]\n",
      " [1 0 1]\n",
      " [1 0 1]\n",
      " [1 1 0]\n",
      " [0 1 1]\n",
      " [1 0 0]\n",
      " [1 0 0]] <class 'numpy.ndarray'>\n",
      "\n",
      "[1 0 1]\n",
      "[1 0 0]\n",
      "[0 0 1]\n",
      "[1 0 1]\n",
      "[1 0 1]\n",
      "[1 1 0]\n",
      "[0 1 1]\n",
      "[1 0 0]\n",
      "[1 0 0]\n",
      "\n",
      "Solution 2:\n",
      "[1 0 1]\n",
      "[1 0 0]\n",
      "[0 0 1]\n",
      "[1 0 1]\n",
      "[1 0 1]\n",
      "[1 1 0]\n",
      "[0 1 1]\n",
      "[1 0 0]\n",
      "[1 0 0]\n"
     ]
    }
   ],
   "source": [
    "m = np.random.randint(0, 2, (10, 3))\n",
    "print(m, type(m), end=\"\\n\\n\")\n",
    "\n",
    "# first solution:\n",
    "for i in range(len(m)):\n",
    "    if len(set(m[i])) > 1:\n",
    "        print(m[i])\n",
    "\n",
    "print(\"\\nSolution 2:\")\n",
    "\n",
    "# second solution:\n",
    "for i in range(len(m)):\n",
    "    if len(np.unique(m[i])) > 1:\n",
    "        print(m[i])"
   ]
  },
  {
   "cell_type": "markdown",
   "id": "28f0d116",
   "metadata": {},
   "source": [
    "**6.** Дан двумерный массив. Удалить те строки, которые повторяются"
   ]
  },
  {
   "cell_type": "code",
   "execution_count": 28,
   "id": "83d2c0b7",
   "metadata": {},
   "outputs": [
    {
     "name": "stdout",
     "output_type": "stream",
     "text": [
      "[[2 1]\n",
      " [2 1]\n",
      " [2 1]\n",
      " [2 2]\n",
      " [2 2]\n",
      " [1 1]\n",
      " [1 2]\n",
      " [1 2]\n",
      " [1 2]\n",
      " [1 1]]\n",
      "\n",
      "[[1 1]\n",
      " [1 2]\n",
      " [2 1]\n",
      " [2 2]]\n"
     ]
    }
   ],
   "source": [
    "m = np.random.randint(1, 3, (10, 2))\n",
    "print(m, end=\"\\n\\n\")\n",
    "\n",
    "m = np.unique(m, axis=0)\n",
    "print(m)"
   ]
  },
  {
   "cell_type": "markdown",
   "id": "6daa9e37",
   "metadata": {},
   "source": [
    "______\n",
    "______"
   ]
  },
  {
   "cell_type": "markdown",
   "id": "cfbfcaff",
   "metadata": {},
   "source": [
    "Для каждой из следующих задач (1-5) нужно привести 2 реализации – одна без использования numpy (cчитайте, что там, где на входе или выходе должны быть numpy array, будут просто списки), а вторая полностью векторизованная с использованием numpy (без использования питоновских циклов/map/list comprehension).\n",
    "\n",
    "\n",
    "__Замечание 1.__ Можно считать, что все указанные объекты непустые (к примеру, в __задаче 1__ на диагонали матрицы есть ненулевые элементы).\n",
    "\n",
    "__Замечание 2.__ Для большинства задач решение занимает не больше 1-2 строк."
   ]
  },
  {
   "cell_type": "markdown",
   "id": "673cac7f",
   "metadata": {},
   "source": [
    "___"
   ]
  },
  {
   "cell_type": "markdown",
   "id": "ca6f585e",
   "metadata": {},
   "source": [
    "* __Задача 1__: Подсчитать произведение ненулевых элементов на диагонали прямоугольной матрицы.\n",
    " Например, для X = np.array([[1, 0, 1], [2, 0, 2], [3, 0, 3], [4, 4, 4]]) ответ 3."
   ]
  },
  {
   "cell_type": "code",
   "execution_count": 29,
   "id": "065862fc",
   "metadata": {},
   "outputs": [
    {
     "name": "stdout",
     "output_type": "stream",
     "text": [
      "3\n",
      "3\n"
     ]
    }
   ],
   "source": [
    "# Python solution:\n",
    "x_p = [[1, 0, 1], [2, 0, 2], [3, 0, 3], [4, 4, 4]]\n",
    "\n",
    "for i in range(len(x_p[0])):\n",
    "    b = 1\n",
    "    b *= x_p[i][i]\n",
    "print(b)\n",
    "\n",
    "# Numpy solution:\n",
    "x_n = np.array([[1, 0, 1], [2, 0, 2], [3, 0, 3], [4, 4, 4]])\n",
    "\n",
    "print(np.prod(np.diagonal(x_n)[np.diagonal(x_n) != 0]))\n",
    "\n"
   ]
  },
  {
   "cell_type": "markdown",
   "id": "9fc51d41",
   "metadata": {},
   "source": [
    "* __Задача 2__: Даны два вектора x и y. Проверить, задают ли они одно и то же мультимножество.  \n",
    "  Например, для x = np.array([1, 2, 2, 4]), y = np.array([4, 2, 1, 2]) ответ True."
   ]
  },
  {
   "cell_type": "code",
   "execution_count": 30,
   "id": "a809e02f",
   "metadata": {},
   "outputs": [
    {
     "name": "stdout",
     "output_type": "stream",
     "text": [
      "True\n",
      "True\n"
     ]
    }
   ],
   "source": [
    "# Python solution:\n",
    "x, y = [1, 2, 2, 4], [4, 2, 1, 2]\n",
    "print(sorted(x) == sorted(y))\n",
    "\n",
    "# Numpy solution:\n",
    "x, y = np.array([1, 2, 2, 4]), np.array([1, 2, 2, 4])\n",
    "print(np.array_equal(np.sort(x), np.sort(y)))"
   ]
  },
  {
   "cell_type": "markdown",
   "id": "b9c185c7",
   "metadata": {},
   "source": [
    "* __Задача 3__: Найти максимальный элемент в векторе x среди элементов, перед которыми стоит ноль. \n",
    " Например, для x = np.array([6, 2, 0, 3, 0, 0, 5, 7, 0]) ответ 5."
   ]
  },
  {
   "cell_type": "code",
   "execution_count": 31,
   "outputs": [
    {
     "name": "stdout",
     "output_type": "stream",
     "text": [
      "5\n",
      "5\n"
     ]
    }
   ],
   "source": [
    "# Python solution:\n",
    "x = [6, 2, 0, 3, 0, 0, 5, 7, 0]\n",
    "max_el = 0\n",
    "for i in range(1, len(x)):\n",
    "    if x[i - 1] == 0 and x[i] > max_el:\n",
    "        max_el = x[i]\n",
    "print(max_el)\n",
    "\n",
    "# Numpy solution:\n",
    "x = np.array([6, 2, 0, 3, 0, 0, 5, 7, 0])\n",
    "zeroes = x == 0\n",
    "# print(zeroes[:-1]) # -> [False False  True False  True  True False False]\n",
    "# print(x[1:][5]) # -> 5\n",
    "# print(x[:-1][zeroes[:-1]]) # -> [0 0 0]\n",
    "# print(x[1:][zeroes[:-1]]) # -> [3 0 5]\n",
    "print(x[1:][zeroes[:-1]].max())\n"
   ],
   "metadata": {
    "collapsed": false
   }
  },
  {
   "cell_type": "markdown",
   "id": "480be4ce",
   "metadata": {},
   "source": [
    "* __Задача 4__: Реализовать кодирование длин серий (Run-length encoding). Для некоторого вектора x необходимо вернуть кортеж из двух векторов одинаковой длины. Первый содержит числа, а второй - сколько раз их нужно повторить.  \n",
    " Например, для x = np.array([2, 2, 2, 3, 3, 3, 5]) ответ (np.array([2, 3, 5]), np.array([3, 3, 1]))."
   ]
  },
  {
   "cell_type": "code",
   "execution_count": 32,
   "id": "3c592124",
   "metadata": {},
   "outputs": [
    {
     "name": "stdout",
     "output_type": "stream",
     "text": [
      "(array([2, 3, 5]), array([3, 3, 1]))\n",
      "([2, 3, 5], [3, 3, 1])\n"
     ]
    }
   ],
   "source": [
    "# Numpy solution:\n",
    "x = np.array([2, 2, 2, 3, 3, 3, 5])\n",
    "print(np.unique(x, return_counts=True))\n",
    "\n",
    "# Python solution:\n",
    "def encode(l):\n",
    "    nums_unique = list(set(l))\n",
    "    counter_list = list()\n",
    "    for l_i in nums_unique:\n",
    "        counter_list.append(l.count(l_i))\n",
    "    goal_tuple = nums_unique, counter_list\n",
    "    return goal_tuple\n",
    "\n",
    "x = [2, 2, 2, 3, 3, 3, 5]\n",
    "print(encode(x))\n"
   ]
  },
  {
   "cell_type": "markdown",
   "id": "077532ec",
   "metadata": {},
   "source": [
    "* __Задача 5__: Даны две выборки объектов - X и Y. Вычислить матрицу евклидовых расстояний между объектами. Сравните с функцией scipy.spatial.distance.cdist по скорости работы."
   ]
  },
  {
   "cell_type": "code",
   "execution_count": 33,
   "id": "1e807797",
   "metadata": {},
   "outputs": [
    {
     "name": "stdout",
     "output_type": "stream",
     "text": [
      "[[5.196152422706632, 17.549928774784245, 0.0, 8.246211251235321], [16.55294535724685, 19.1049731745428, 19.0, 16.64331697709324], [0.0, 12.449899597988733, 5.196152422706632, 3.3166247903554], [1.4142135623730951, 13.45362404707371, 4.123105625617661, 4.58257569495584]]\n",
      "Python 0.000141143798828125 sec\n",
      "\n",
      "[[ 5.19615242 17.54992877  0.          8.24621125]\n",
      " [16.55294536 19.10497317 19.         16.64331698]\n",
      " [ 0.         12.4498996   5.19615242  3.31662479]\n",
      " [ 1.41421356 13.45362405  4.12310563  4.58257569]]\n",
      "Skipy 0.0004258155822753906 sec\n"
     ]
    }
   ],
   "source": [
    "import math\n",
    "from scipy.spatial.distance import cdist\n",
    "import time\n",
    "\n",
    "x = [1, 2, 3], [1, 21, 3], [4, 5, 6], [4, 4, 5]\n",
    "y = [4, 5, 6], [13, 10, 13], [1, 2, 3], [5, 6, 9]\n",
    "\n",
    "# Python\n",
    "def method(x, y):\n",
    "    result = []\n",
    "    for i in range(len(x)):\n",
    "        l = []\n",
    "        for j in range(len(y)):\n",
    "            dist = 0\n",
    "            for k in range(len(x[0])):\n",
    "                dist += (x[i][k] - y[j][k]) ** 2\n",
    "            l.append(math.sqrt(dist))\n",
    "        result.append(l)\n",
    "    return result\n",
    "\n",
    "start_time = time.time()\n",
    "print(method(x, y))\n",
    "print(\"Python %s sec\" % (time.time() - start_time), end=\"\\n\\n\")\n",
    "\n",
    "# Scipy\n",
    "x_2 = np.array([*x])\n",
    "y_2 = np.array([*y])\n",
    "\n",
    "start_time = time.time()\n",
    "print(cdist(x_2, y_2))\n",
    "print(\"Skipy %s sec\" % (time.time() - start_time))\n"
   ]
  },
  {
   "cell_type": "markdown",
   "id": "973e8064",
   "metadata": {},
   "source": [
    "_______\n",
    "________"
   ]
  },
  {
   "cell_type": "markdown",
   "id": "1104acb7",
   "metadata": {},
   "source": [
    "* #### __Задача 6__: CrunchieMunchies __*__\n",
    "\n",
    "Вы работаете в отделе маркетинга пищевой компании MyCrunch, которая разрабатывает новый вид вкусных, полезных злаков под названием **CrunchieMunchies**.\n",
    "\n",
    "Вы хотите продемонстрировать потребителям, насколько полезны ваши хлопья по сравнению с другими ведущими брендами, поэтому вы собрали данные о питании нескольких разных конкурентов.\n",
    "\n",
    "Ваша задача - использовать вычисления Numpy для анализа этих данных и доказать, что ваши **СrunchieMunchies** - самый здоровый выбор для потребителей.\n"
   ]
  },
  {
   "cell_type": "code",
   "execution_count": 34,
   "id": "10a77f8d",
   "metadata": {},
   "outputs": [],
   "source": [
    "import numpy as np\n"
   ]
  },
  {
   "cell_type": "markdown",
   "id": "ab87cb03",
   "metadata": {},
   "source": [
    "1. Просмотрите файл cereal.csv. Этот файл содержит количества калорий для различных марок хлопьев. Загрузите данные из файла и сохраните их как calorie_stats."
   ]
  },
  {
   "cell_type": "code",
   "execution_count": 35,
   "id": "9681ebf2",
   "metadata": {},
   "outputs": [
    {
     "data": {
      "text/plain": "array([ 70., 120.,  70.,  50., 110., 110., 110., 130.,  90.,  90., 120.,\n       110., 120., 110., 110., 110., 100., 110., 110., 110., 100., 110.,\n       100., 100., 110., 110., 100., 120., 120., 110., 100., 110., 100.,\n       110., 120., 120., 110., 110., 110., 140., 110., 100., 110., 100.,\n       150., 150., 160., 100., 120., 140.,  90., 130., 120., 100.,  50.,\n        50., 100., 100., 120., 100.,  90., 110., 110.,  80.,  90.,  90.,\n       110., 110.,  90., 110., 140., 100., 110., 110., 100., 100., 110.])"
     },
     "execution_count": 35,
     "metadata": {},
     "output_type": "execute_result"
    }
   ],
   "source": [
    "calorie_stats = np.loadtxt(\"./data/cereal.csv\", delimiter=\",\")\n",
    "calorie_stats"
   ]
  },
  {
   "cell_type": "markdown",
   "id": "139cfbd8",
   "metadata": {},
   "source": [
    "2. В одной порции CrunchieMunchies содержится 60 калорий. Насколько выше среднее количество калорий у ваших конкурентов?\n",
    "\n",
    "Сохраните ответ в переменной average_calories и распечатайте переменную в терминале"
   ]
  },
  {
   "cell_type": "code",
   "execution_count": 36,
   "id": "7036d240",
   "metadata": {},
   "outputs": [
    {
     "name": "stdout",
     "output_type": "stream",
     "text": [
      "106.88311688311688\n",
      "46.883116883116884\n"
     ]
    }
   ],
   "source": [
    "average_calories = np.mean(calorie_stats)\n",
    "print(average_calories)\n",
    "print(average_calories - 60)"
   ]
  },
  {
   "cell_type": "markdown",
   "id": "b2ddb4cd",
   "metadata": {},
   "source": [
    "3. Корректно ли среднее количество калорий отражает распределение набора данных? Давайте отсортируем данные и посмотрим.\n",
    "\n",
    "Отсортируйте данные и сохраните результат в переменной calorie_stats_sorted. Распечатайте отсортированную информацию"
   ]
  },
  {
   "cell_type": "code",
   "execution_count": 37,
   "id": "46eeb4ed",
   "metadata": {},
   "outputs": [
    {
     "name": "stdout",
     "output_type": "stream",
     "text": [
      "[ 50.  50.  50.  70.  70.  80.  90.  90.  90.  90.  90.  90.  90. 100.\n",
      " 100. 100. 100. 100. 100. 100. 100. 100. 100. 100. 100. 100. 100. 100.\n",
      " 100. 100. 110. 110. 110. 110. 110. 110. 110. 110. 110. 110. 110. 110.\n",
      " 110. 110. 110. 110. 110. 110. 110. 110. 110. 110. 110. 110. 110. 110.\n",
      " 110. 110. 110. 120. 120. 120. 120. 120. 120. 120. 120. 120. 120. 130.\n",
      " 130. 140. 140. 140. 150. 150. 160.]\n"
     ]
    }
   ],
   "source": [
    "calorie_stats_sorted = np.sort(calorie_stats)\n",
    "print(calorie_stats_sorted)"
   ]
  },
  {
   "cell_type": "markdown",
   "id": "4dc74116",
   "metadata": {},
   "source": [
    "4. Похоже, что большинство значений выше среднего. Давайте посмотрим, является ли медиана наиболее корректным показателем набора данных.\n",
    "\n",
    "Вычислите медиану набора данных и сохраните свой ответ в median_calories. Выведите медиану, чтобы вы могли видеть, как она сравнивается со средним значением."
   ]
  },
  {
   "cell_type": "code",
   "execution_count": 38,
   "id": "b56627c3",
   "metadata": {},
   "outputs": [
    {
     "name": "stdout",
     "output_type": "stream",
     "text": [
      "110.0\n"
     ]
    }
   ],
   "source": [
    "median_calories = np.median(calorie_stats)\n",
    "print(median_calories)"
   ]
  },
  {
   "cell_type": "markdown",
   "id": "a63ab72f",
   "metadata": {},
   "source": [
    "5. В то время как медиана показывает, что по крайней мере половина наших значений составляет более 100 калорий, было бы более впечатляюще показать, что значительная часть конкурентов имеет более высокое количество калорий, чем CrunchieMunchies.\n",
    "\n",
    "Рассчитайте различные процентили и распечатайте их, пока не найдете наименьший процентиль, превышающий 60 калорий. Сохраните это значение в переменной nth_percentile."
   ]
  },
  {
   "cell_type": "code",
   "execution_count": 39,
   "id": "fe80ce03",
   "metadata": {},
   "outputs": [
    {
     "name": "stdout",
     "output_type": "stream",
     "text": [
      "140.0\n",
      "70.0\n",
      "55.599999999999994\n"
     ]
    }
   ],
   "source": [
    "print(np.percentile(calorie_stats,95)) # -> 140\n",
    "print(np.percentile(calorie_stats,4)) # -> 70.0 -> V\n",
    "\n",
    "print(np.percentile(calorie_stats,3)) # -> 55.599999999999994 -> X\n",
    "\n"
   ]
  },
  {
   "cell_type": "markdown",
   "id": "a2a3c5aa",
   "metadata": {},
   "source": [
    "6. Хотя процентиль показывает нам, что у большинства конкурентов количество калорий намного выше, это неудобная концепция для использования в маркетинговых материалах.\n",
    "\n",
    "Вместо этого давайте подсчитаем процент хлопьев, в которых содержится более 60 калорий на порцию. Сохраните свой ответ в переменной more_calories и распечатайте его"
   ]
  },
  {
   "cell_type": "code",
   "execution_count": 40,
   "id": "ade0f6ea",
   "metadata": {},
   "outputs": [
    {
     "name": "stdout",
     "output_type": "stream",
     "text": [
      "96.1038961038961\n",
      "96.1038961038961\n"
     ]
    }
   ],
   "source": [
    "more_calories = np.mean((calorie_stats > 60) * 100)\n",
    "print(more_calories)\n",
    "\n",
    "# OR\n",
    "more = np.sum(calorie_stats > 60)\n",
    "more_calories = more * 100 / calorie_stats.size\n",
    "print(more_calories)"
   ]
  },
  {
   "cell_type": "markdown",
   "id": "1735d65b",
   "metadata": {},
   "source": [
    "7. Это действительно высокий процент. Это будет очень полезно, когда мы будем продвигать CrunchieMunchies. Но один вопрос заключается в том, насколько велики различия в наборе данных? Можем ли мы сделать обобщение, что в большинстве злаков содержится около 100 калорий или разброс еще больше?\n",
    "\n",
    "Рассчитайте величину отклонения, найдя стандартное отклонение, Сохраните свой ответ в calorie_std и распечатайте на терминале. Как мы можем включить эту ценность в наш анализ?"
   ]
  },
  {
   "cell_type": "code",
   "execution_count": 41,
   "id": "85c8df1f",
   "metadata": {},
   "outputs": [
    {
     "name": "stdout",
     "output_type": "stream",
     "text": [
      "19.35718533390827\n"
     ]
    }
   ],
   "source": [
    "calorie_std = np.std(calorie_stats)\n",
    "print(calorie_std)"
   ]
  },
  {
   "cell_type": "markdown",
   "id": "037455c5",
   "metadata": {},
   "source": [
    "8. Напишите короткий абзац, в котором кратко изложите свои выводы и то, как, по вашему мнению, эти данные могут быть использованы в интересах Mycrunch при маркетинге CrunchieMunchies."
   ]
  },
  {
   "cell_type": "code",
   "execution_count": 42,
   "id": "c260fee9",
   "metadata": {},
   "outputs": [],
   "source": [
    "# Медиана калорий составляет 110, среднее значение равно 106,88,со стандартным отклонением 19,36.\n",
    "# По количеству калорий CrunchieMunchies находится в 4-м процентиле по отношению к остальным хлопьям для завтрака.\n",
    "# 96.1% других злаков содержат больше калорий в сравнении с CrunchieMunchies.\n",
    "# Исходя из вышеизложенной информации компания MyCrunch производит более низкалорийные хлопья в сравнении с большинством аналогов других проиводителей, что делает продукт CrunchieMunchies компании MyCrunch более конкуренотноспособным и привлекательным к покупке за счет своей полезности.\n"
   ]
  }
 ],
 "metadata": {
  "kernelspec": {
   "display_name": "Python 3 (ipykernel)",
   "language": "python",
   "name": "python3"
  },
  "language_info": {
   "codemirror_mode": {
    "name": "ipython",
    "version": 3
   },
   "file_extension": ".py",
   "mimetype": "text/x-python",
   "name": "python",
   "nbconvert_exporter": "python",
   "pygments_lexer": "ipython3",
   "version": "3.8.10"
  }
 },
 "nbformat": 4,
 "nbformat_minor": 5
}
